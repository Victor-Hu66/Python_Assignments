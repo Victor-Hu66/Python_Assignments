{
 "cells": [
  {
   "cell_type": "code",
   "execution_count": 3,
   "metadata": {},
   "outputs": [
    {
     "output_type": "stream",
     "name": "stdout",
     "text": "[2, 3, 5, 7, 11, 13, 17, 19, 23, 29, 31, 37, 41, 43, 47, 53, 59, 61, 67, 71, 73, 79, 83, 89, 97]\n"
    }
   ],
   "source": [
    "num = int(input(\"Enter a limit number : \"))\n",
    "\n",
    "prime_list = []\n",
    "for i in range(2,num+1):\n",
    "    if (i==2 or i==3 or i==5 or i==7):\n",
    "        prime_list.append(i)\n",
    "    elif (i%2==0 or i%3==0 or i%5==0 or i%7==0):\n",
    "        prime_list=prime_list\n",
    "    else:\n",
    "        prime_list.append(i)\n",
    "print(prime_list)"
   ]
  }
 ],
 "metadata": {
  "language_info": {
   "codemirror_mode": {
    "name": "ipython",
    "version": 3
   },
   "file_extension": ".py",
   "mimetype": "text/x-python",
   "name": "python",
   "nbconvert_exporter": "python",
   "pygments_lexer": "ipython3",
   "version": "3.8.2-final"
  },
  "orig_nbformat": 2,
  "kernelspec": {
   "name": "python38232bit7f49f5bb46fc4ee9ae82942096da9013",
   "display_name": "Python 3.8.2 32-bit"
  }
 },
 "nbformat": 4,
 "nbformat_minor": 2
}