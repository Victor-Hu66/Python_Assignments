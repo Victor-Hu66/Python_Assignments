{
 "cells": [
  {
   "cell_type": "code",
   "execution_count": null,
   "metadata": {},
   "outputs": [],
   "source": [
    "while True:\n",
    "    number = input(\"enter a positive number: \")\n",
    "    digits = len(number)\n",
    "    summ = 0\n",
    "    if not number.isdigit():\n",
    "        print(number, \" is an invalid entry, Do not use non-numeric, flot or negative numbers.\")\n",
    "    else:    \n",
    "        for i in range(digits):\n",
    "            summ+= int(number[i])** digits\n",
    "        if summ == int(number):\n",
    "            print(number,\" is an armstrong number.\")\n",
    "            break\n",
    "        else:\n",
    "            print(number,\" is not an armstrong number.\")\n",
    "            break"
   ]
  }
 ],
 "metadata": {
  "language_info": {
   "codemirror_mode": {
    "name": "ipython",
    "version": 3
   },
   "file_extension": ".py",
   "mimetype": "text/x-python",
   "name": "python",
   "nbconvert_exporter": "python",
   "pygments_lexer": "ipython3",
   "version": 3
  },
  "orig_nbformat": 2
 },
 "nbformat": 4,
 "nbformat_minor": 2
}