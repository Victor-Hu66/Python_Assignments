{
 "cells": [
  {
   "cell_type": "code",
   "execution_count": 14,
   "metadata": {},
   "outputs": [
    {
     "output_type": "stream",
     "name": "stdout",
     "text": "2 is a prime number\n"
    }
   ],
   "source": [
    "number = input(\"Enter a number : \")\n",
    "\n",
    "if not number.isdigit():\n",
    "        print(number, \" is an invalid entry, Do not use non-numeric, flot or negative numbers.\")\n",
    "else:\n",
    "    number=int(number)\n",
    "    if (number == 2 or number == 3 or number == 5):\n",
    "        print (f'{number} is a prime number')\n",
    "    elif (number%2 == 0 or number%3==0 or number%5==0):\n",
    "        print(f'{number} is not a prime number')\n",
    "    else:\n",
    "        print(f'{number} is a prime number')"
   ]
  },
  {
   "cell_type": "code",
   "execution_count": null,
   "metadata": {},
   "outputs": [],
   "source": []
  }
 ],
 "metadata": {
  "language_info": {
   "codemirror_mode": {
    "name": "ipython",
    "version": 3
   },
   "file_extension": ".py",
   "mimetype": "text/x-python",
   "name": "python",
   "nbconvert_exporter": "python",
   "pygments_lexer": "ipython3",
   "version": "3.8.2-final"
  },
  "orig_nbformat": 2,
  "kernelspec": {
   "name": "python38232bit7f49f5bb46fc4ee9ae82942096da9013",
   "display_name": "Python 3.8.2 32-bit"
  }
 },
 "nbformat": 4,
 "nbformat_minor": 2
}