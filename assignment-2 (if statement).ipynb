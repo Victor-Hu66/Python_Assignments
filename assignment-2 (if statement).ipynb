{
 "cells": [
  {
   "cell_type": "code",
   "execution_count": null,
   "metadata": {},
   "outputs": [],
   "source": [
    "age = input(\"Are you cigaretta addict older than 75 years old? (Yes/No)\").title().strip() == \"Yes\"\n",
    "chronic = input(\"Do you have a severe chronic diseade? (Yes/No)\").title().strip() == \"Yes\"\n",
    "imune = input(\"Is your immune system too weak? (Yes/No)\").title().strip() == \"Yes\"\n",
    "print(\"\")\n",
    "if age or chronic or imune :\n",
    "    print(\"You are in the risky group\")\n",
    "else:\n",
    "    print(\"You are not in the risky group\")"
   ]
  }
 ],
 "metadata": {
  "language_info": {
   "codemirror_mode": {
    "name": "ipython",
    "version": 3
   },
   "file_extension": ".py",
   "mimetype": "text/x-python",
   "name": "python",
   "nbconvert_exporter": "python",
   "pygments_lexer": "ipython3",
   "version": 3
  },
  "orig_nbformat": 2
 },
 "nbformat": 4,
 "nbformat_minor": 2
}